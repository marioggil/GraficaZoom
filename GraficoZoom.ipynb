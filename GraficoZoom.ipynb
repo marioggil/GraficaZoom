{
 "cells": [
  {
   "cell_type": "code",
   "execution_count": 1,
   "metadata": {},
   "outputs": [],
   "source": [
    "import pandas as pd\n",
    "import glob"
   ]
  },
  {
   "cell_type": "code",
   "execution_count": 2,
   "metadata": {},
   "outputs": [],
   "source": [
    "def LecturaDatos(Carpeta):\n",
    "    archivos=glob.glob(Carpeta)\n",
    "    Total=[]\n",
    "    for i in archivos:\n",
    "        if len(Total)==0:\n",
    "            Total=pd.read_csv(i)\n",
    "        else:\n",
    "            Temp=pd.read_csv(i)\n",
    "            Total=Total.append(Temp)\n",
    "    return Total\n",
    "DatosPrincipales=LecturaDatos(\"Datos/*\")\n"
   ]
  },
  {
   "cell_type": "code",
   "execution_count": 3,
   "metadata": {},
   "outputs": [],
   "source": [
    "def Texto2list(Lista):\n",
    "    B=Lista.replace(\"'\",\"\").replace(\"[\",\"\").replace(\"]\",\"\").split(\",\")\n",
    "    C=[]\n",
    "    for i in B:\n",
    "        C.append(i.lstrip().rstrip())\n",
    "    return set(C)\n",
    "#Texto2list(A[\"Lista de nombres\"][1])"
   ]
  },
  {
   "cell_type": "code",
   "execution_count": 4,
   "metadata": {},
   "outputs": [],
   "source": [
    "DatosPrincipales[\"ListaCorregida\"]=DatosPrincipales[\"Lista de nombres\"].apply(Texto2list)\n",
    "DatosPrincipales[\"ConectadosReales\"]=DatosPrincipales[\"ListaCorregida\"].apply(len)"
   ]
  },
  {
   "cell_type": "code",
   "execution_count": 5,
   "metadata": {},
   "outputs": [],
   "source": [
    "Ordenada=DatosPrincipales.sort_values(by=['now']).reset_index()"
   ]
  },
  {
   "cell_type": "code",
   "execution_count": 6,
   "metadata": {},
   "outputs": [
    {
     "output_type": "execute_result",
     "data": {
      "text/plain": [
       "     index  Unnamed: 0  Numero conectados  \\\n",
       "0        0           0                 59   \n",
       "1        1           1                 57   \n",
       "2        2           2                 57   \n",
       "3        3           3                 56   \n",
       "4        4           4                 57   \n",
       "..     ...         ...                ...   \n",
       "141     34          34                 53   \n",
       "142     35          35                 54   \n",
       "143     36          36                 52   \n",
       "144     37          37                 51   \n",
       "145     38          38                 49   \n",
       "\n",
       "                                      Lista de nombres       now  salio  \\\n",
       "0    ['Bot', 'Diego Virgolini', 'Ruben Dario Romero...  09:16:03      0   \n",
       "1    ['Bot', 'Diego Virgolini', 'Ruben Dario Romero...  09:16:18      1   \n",
       "2    ['Bot', 'Diego Virgolini', 'Ruben Dario Romero...  09:16:33      0   \n",
       "3    ['Bot', 'Diego Virgolini', 'Ruben Dario Romero...  09:16:49      1   \n",
       "4    ['Bot', 'Diego Virgolini', 'Ruben Dario Romero...  09:17:04      0   \n",
       "..                                                 ...       ...    ...   \n",
       "141  ['Bot', 'Diego Virgolini', 'Ruben Dario Romero...  10:05:28      1   \n",
       "142  ['Bot', 'Diego Virgolini', 'Ruben Dario Romero...  10:05:44      0   \n",
       "143  ['Bot', 'Diego Virgolini', 'Ruben Dario Romero...  10:06:00      1   \n",
       "144  ['Bot', 'Diego Virgolini', 'Ruben Dario Romero...  10:06:15      1   \n",
       "145  ['Bot', 'Diego Virgolini', 'Ruben Dario Romero...  10:06:31      1   \n",
       "\n",
       "                                        ListaCorregida  ConectadosReales  \n",
       "0    {Fer Vallone, Sofi Alderete, Hernan Paredes, R...                58  \n",
       "1    {Fer Vallone, Sofi Alderete, Hernan Paredes, R...                56  \n",
       "2    {Fer Vallone, Sofi Alderete, Hernan Paredes, R...                56  \n",
       "3    {Fer Vallone, Sofi Alderete, Hernan Paredes, R...                55  \n",
       "4    {Fer Vallone, Sofi Alderete, Hernan Paredes, R...                56  \n",
       "..                                                 ...               ...  \n",
       "141  {Laura Schemper, Sofi Alderete, Hernan Paredes...                52  \n",
       "142  {Laura Schemper, Sofi Alderete, Hernan Paredes...                53  \n",
       "143  {Laura Schemper, Sofi Alderete, Hernan Paredes...                51  \n",
       "144  {Laura Schemper, Sofi Alderete, Hernan Paredes...                50  \n",
       "145  {Laura Schemper, Sofi Alderete, Hernan Paredes...                48  \n",
       "\n",
       "[146 rows x 8 columns]"
      ],
      "text/html": "<div>\n<style scoped>\n    .dataframe tbody tr th:only-of-type {\n        vertical-align: middle;\n    }\n\n    .dataframe tbody tr th {\n        vertical-align: top;\n    }\n\n    .dataframe thead th {\n        text-align: right;\n    }\n</style>\n<table border=\"1\" class=\"dataframe\">\n  <thead>\n    <tr style=\"text-align: right;\">\n      <th></th>\n      <th>index</th>\n      <th>Unnamed: 0</th>\n      <th>Numero conectados</th>\n      <th>Lista de nombres</th>\n      <th>now</th>\n      <th>salio</th>\n      <th>ListaCorregida</th>\n      <th>ConectadosReales</th>\n    </tr>\n  </thead>\n  <tbody>\n    <tr>\n      <th>0</th>\n      <td>0</td>\n      <td>0</td>\n      <td>59</td>\n      <td>['Bot', 'Diego Virgolini', 'Ruben Dario Romero...</td>\n      <td>09:16:03</td>\n      <td>0</td>\n      <td>{Fer Vallone, Sofi Alderete, Hernan Paredes, R...</td>\n      <td>58</td>\n    </tr>\n    <tr>\n      <th>1</th>\n      <td>1</td>\n      <td>1</td>\n      <td>57</td>\n      <td>['Bot', 'Diego Virgolini', 'Ruben Dario Romero...</td>\n      <td>09:16:18</td>\n      <td>1</td>\n      <td>{Fer Vallone, Sofi Alderete, Hernan Paredes, R...</td>\n      <td>56</td>\n    </tr>\n    <tr>\n      <th>2</th>\n      <td>2</td>\n      <td>2</td>\n      <td>57</td>\n      <td>['Bot', 'Diego Virgolini', 'Ruben Dario Romero...</td>\n      <td>09:16:33</td>\n      <td>0</td>\n      <td>{Fer Vallone, Sofi Alderete, Hernan Paredes, R...</td>\n      <td>56</td>\n    </tr>\n    <tr>\n      <th>3</th>\n      <td>3</td>\n      <td>3</td>\n      <td>56</td>\n      <td>['Bot', 'Diego Virgolini', 'Ruben Dario Romero...</td>\n      <td>09:16:49</td>\n      <td>1</td>\n      <td>{Fer Vallone, Sofi Alderete, Hernan Paredes, R...</td>\n      <td>55</td>\n    </tr>\n    <tr>\n      <th>4</th>\n      <td>4</td>\n      <td>4</td>\n      <td>57</td>\n      <td>['Bot', 'Diego Virgolini', 'Ruben Dario Romero...</td>\n      <td>09:17:04</td>\n      <td>0</td>\n      <td>{Fer Vallone, Sofi Alderete, Hernan Paredes, R...</td>\n      <td>56</td>\n    </tr>\n    <tr>\n      <th>...</th>\n      <td>...</td>\n      <td>...</td>\n      <td>...</td>\n      <td>...</td>\n      <td>...</td>\n      <td>...</td>\n      <td>...</td>\n      <td>...</td>\n    </tr>\n    <tr>\n      <th>141</th>\n      <td>34</td>\n      <td>34</td>\n      <td>53</td>\n      <td>['Bot', 'Diego Virgolini', 'Ruben Dario Romero...</td>\n      <td>10:05:28</td>\n      <td>1</td>\n      <td>{Laura Schemper, Sofi Alderete, Hernan Paredes...</td>\n      <td>52</td>\n    </tr>\n    <tr>\n      <th>142</th>\n      <td>35</td>\n      <td>35</td>\n      <td>54</td>\n      <td>['Bot', 'Diego Virgolini', 'Ruben Dario Romero...</td>\n      <td>10:05:44</td>\n      <td>0</td>\n      <td>{Laura Schemper, Sofi Alderete, Hernan Paredes...</td>\n      <td>53</td>\n    </tr>\n    <tr>\n      <th>143</th>\n      <td>36</td>\n      <td>36</td>\n      <td>52</td>\n      <td>['Bot', 'Diego Virgolini', 'Ruben Dario Romero...</td>\n      <td>10:06:00</td>\n      <td>1</td>\n      <td>{Laura Schemper, Sofi Alderete, Hernan Paredes...</td>\n      <td>51</td>\n    </tr>\n    <tr>\n      <th>144</th>\n      <td>37</td>\n      <td>37</td>\n      <td>51</td>\n      <td>['Bot', 'Diego Virgolini', 'Ruben Dario Romero...</td>\n      <td>10:06:15</td>\n      <td>1</td>\n      <td>{Laura Schemper, Sofi Alderete, Hernan Paredes...</td>\n      <td>50</td>\n    </tr>\n    <tr>\n      <th>145</th>\n      <td>38</td>\n      <td>38</td>\n      <td>49</td>\n      <td>['Bot', 'Diego Virgolini', 'Ruben Dario Romero...</td>\n      <td>10:06:31</td>\n      <td>1</td>\n      <td>{Laura Schemper, Sofi Alderete, Hernan Paredes...</td>\n      <td>48</td>\n    </tr>\n  </tbody>\n</table>\n<p>146 rows × 8 columns</p>\n</div>"
     },
     "metadata": {},
     "execution_count": 6
    }
   ],
   "source": [
    "Ordenada"
   ]
  },
  {
   "cell_type": "code",
   "execution_count": 7,
   "metadata": {},
   "outputs": [],
   "source": [
    "Ordenada[\"Entrada\"]=0\n",
    "Ordenada[\"QEntrada\"]=\"\"\n",
    "Ordenada[\"Salida\"]=0\n",
    "Ordenada[\"QSalida\"]=\"\""
   ]
  },
  {
   "cell_type": "code",
   "execution_count": 33,
   "metadata": {},
   "outputs": [],
   "source": [
    "def ContarEntradas(BasedeDatos,index,ColumnaConSets):\n",
    "    if index==0:\n",
    "        Entradas=BasedeDatos[ColumnaConSets].iloc[index]\n",
    "        return Entradas,len(Entradas)\n",
    "    PasoPrevio=BasedeDatos[ColumnaConSets].iloc[index-1]\n",
    "    PasoActual=BasedeDatos[ColumnaConSets].iloc[index]\n",
    "    Entradas=PasoActual-PasoPrevio\n",
    "\n",
    "    return Entradas,len(Entradas)\n",
    "def ContarSalidas(BasedeDatos,index,ColumnaConSets):\n",
    "    if index==len(BasedeDatos)-1:\n",
    "        Salidas=set()\n",
    "        return set(Salidas),len(Salidas)\n",
    "    PasoActual=BasedeDatos[ColumnaConSets].iloc[index]\n",
    "    PasoPosterior=BasedeDatos[ColumnaConSets].iloc[index+1]\n",
    "    Salidas=PasoPosterior-PasoActual\n",
    "    return set(Salidas),len(Salidas)\n",
    "for i in range(len(Ordenada)):\n",
    "    x,xi=ContarSalidas(Ordenada,i,\"ListaCorregida\")\n",
    "    if len(x)==0:\n",
    "        x=\"\"\n",
    "    else:\n",
    "        x=str(x).replace(\"{\",\"\").replace(\"}\",\"\")\n",
    "    Ordenada[\"Salida\"].iloc[i]=x\n",
    "    Ordenada[\"QSalida\"]=xi\n",
    "    z,zi=ContarEntradas(Ordenada,i,\"ListaCorregida\")\n",
    "    if len(z)==0:\n",
    "        z=\"\"\n",
    "    else:\n",
    "        z=str(z).replace(\"{\",\"\").replace(\"}\",\"\")\n",
    "    Ordenada[\"Entrada\"].iloc[i]=z\n",
    "    Ordenada[\"QEntrada\"]=zi    \n",
    "\n"
   ]
  },
  {
   "cell_type": "code",
   "execution_count": 41,
   "metadata": {},
   "outputs": [
    {
     "output_type": "execute_result",
     "data": {
      "text/plain": [
       "32    {Fer Vallone, Sofi Alderete, Hernan Paredes, R...\n",
       "Name: ListaCorregida, dtype: object"
      ]
     },
     "metadata": {},
     "execution_count": 41
    }
   ],
   "source": [
    "Ordenada[Ordenada[\"now\"]==\"09:24:11\"][\"ListaCorregida\"]"
   ]
  },
  {
   "cell_type": "code",
   "execution_count": 36,
   "metadata": {},
   "outputs": [
    {
     "output_type": "display_data",
     "data": {
      "application/vnd.plotly.v1+json": {
       "config": {
        "plotlyServerURL": "https://plot.ly"
       },
       "data": [
        {
         "customdata": [
          [
           "",
           "'Fer Vallone', 'Sofi Alderete', 'Hernan Paredes', 'Rindo', 'Antonieta Contreras', 'Carlos Gutierrez', 'Maria', 'Juan Antonio Ortega', 'Luis Martinez', 'JosÉ Esterkin', 'Hernan Sartorelli', 'Marcelo Barcia', 'Rocio Basso', 'Ruben Dario Romero Chica', 'Vanina Giraudo', 'Andres Fernandez', 'Lorena Leotta', 'Catalina Benitez', 'Paula Losano', 'MarÍA BelÉN Torrado', 'Rodrigo Lagorio', 'Sandra Milena Rojas HerrÁN', 'Liliana Gomez', 'Diego Virgolini', 'Teresa GarcÍA', 'Marco Tulio Ortiz MÁRquez', 'Denis Gonzalez', 'Luz Aura ÁLvarez Ariza', 'Ricardo Roy', 'Jorland Delgado', 'MarÍA Fernanda (@MaferMazu)', 'Juan Mikly', 'Mauricio AlÍ', 'Leidy Bravo', 'Marisa VÁZquez Mazzini', 'JUAN DAVID BENAVIDES MUNOZ', 'Henry SG', 'Claudio Destru', 'Armando Salazar Tinco', 'Bot', 'Carolina', 'Claudia Castillo Sosa', 'Florencia Bo Aha!', 'Yubi', 'Jose_Meyer', 'Caro', 'Gustavo Turello', 'Veronica Boue', 'Angiolina Gargini', 'Manuel Mejias', 'Damian Gaviglio', 'Ale Clavel', 'Julio Rodriguez', 'Hector Sanchez', 'Laura Miguez', 'Cecilia Olmos Rizzato', 'Pablo Mazzeo', 'Yoraxi Marin'"
          ],
          [
           "",
           ""
          ],
          [
           "",
           ""
          ],
          [
           "'Marco Tulio Ortiz MÁRquez'",
           ""
          ],
          [
           "'Vanina Giraudo', 'Luis Martinez'",
           "'Marco Tulio Ortiz MÁRquez'"
          ],
          [
           "'Francisco'",
           "'Vanina Giraudo', 'Luis Martinez'"
          ],
          [
           "",
           "'Francisco'"
          ],
          [
           "'Valeria Minuzzi'",
           ""
          ],
          [
           "",
           "'Valeria Minuzzi'"
          ],
          [
           "",
           ""
          ],
          [
           "'Luis Martinez'",
           ""
          ],
          [
           "",
           "'Luis Martinez'"
          ],
          [
           "",
           ""
          ],
          [
           "'Yoraxi Marin'",
           ""
          ],
          [
           "",
           "'Yoraxi Marin'"
          ],
          [
           "",
           ""
          ],
          [
           "",
           ""
          ],
          [
           "'Andres TroaÑOs', 'Marco Tulio Ortiz MÁRquez'",
           ""
          ],
          [
           "'Jaqueline DÍAz MartÍNez Consultora Coach'",
           "'Andres TroaÑOs', 'Marco Tulio Ortiz MÁRquez'"
          ],
          [
           "",
           "'Jaqueline DÍAz MartÍNez Consultora Coach'"
          ],
          [
           "",
           ""
          ],
          [
           "'Jessica Moncivaez'",
           ""
          ],
          [
           "",
           "'Jessica Moncivaez'"
          ],
          [
           "",
           ""
          ],
          [
           "",
           ""
          ],
          [
           "",
           ""
          ],
          [
           "",
           ""
          ],
          [
           "",
           ""
          ],
          [
           "",
           ""
          ],
          [
           "",
           ""
          ],
          [
           "",
           ""
          ],
          [
           "",
           ""
          ],
          [
           "'Karla O.'",
           ""
          ],
          [
           "",
           "'Karla O.'"
          ],
          [
           "",
           ""
          ],
          [
           "",
           ""
          ],
          [
           "",
           ""
          ],
          [
           "'Paul Dani'",
           ""
          ],
          [
           "",
           "'Paul Dani'"
          ],
          [
           "",
           ""
          ],
          [
           "",
           ""
          ],
          [
           "'Gustavo MartÍNez'",
           ""
          ],
          [
           "",
           "'Gustavo MartÍNez'"
          ],
          [
           "",
           ""
          ],
          [
           "",
           ""
          ],
          [
           "",
           ""
          ],
          [
           "",
           ""
          ],
          [
           "",
           ""
          ],
          [
           "",
           ""
          ],
          [
           "",
           ""
          ],
          [
           "",
           ""
          ],
          [
           "",
           ""
          ],
          [
           "",
           ""
          ],
          [
           "",
           ""
          ],
          [
           "",
           ""
          ],
          [
           "",
           ""
          ],
          [
           "",
           ""
          ],
          [
           "",
           ""
          ],
          [
           "",
           ""
          ],
          [
           "",
           ""
          ],
          [
           "",
           ""
          ],
          [
           "'Ruben Colin'",
           ""
          ],
          [
           "",
           "'Ruben Colin'"
          ],
          [
           "",
           ""
          ],
          [
           "",
           ""
          ],
          [
           "",
           ""
          ],
          [
           "",
           ""
          ],
          [
           "",
           ""
          ],
          [
           "",
           ""
          ],
          [
           "",
           ""
          ],
          [
           "",
           ""
          ],
          [
           "",
           ""
          ],
          [
           "'Zoe Nassimoff'",
           ""
          ],
          [
           "",
           "'Zoe Nassimoff'"
          ],
          [
           "",
           ""
          ],
          [
           "",
           ""
          ],
          [
           "",
           ""
          ],
          [
           "",
           ""
          ],
          [
           "",
           ""
          ],
          [
           "",
           ""
          ],
          [
           "",
           ""
          ],
          [
           "",
           ""
          ],
          [
           "",
           ""
          ],
          [
           "",
           ""
          ],
          [
           "'Hector Sanchez'",
           ""
          ],
          [
           "'Laura Schemper'",
           "'Hector Sanchez'"
          ],
          [
           "",
           "'Laura Schemper'"
          ],
          [
           "",
           ""
          ],
          [
           "",
           ""
          ],
          [
           "",
           ""
          ],
          [
           "",
           ""
          ],
          [
           "",
           ""
          ],
          [
           "",
           ""
          ],
          [
           "",
           ""
          ],
          [
           "",
           ""
          ],
          [
           "",
           ""
          ],
          [
           "",
           ""
          ],
          [
           "",
           ""
          ],
          [
           "",
           ""
          ],
          [
           "",
           ""
          ],
          [
           "",
           ""
          ],
          [
           "",
           ""
          ],
          [
           "",
           ""
          ],
          [
           "",
           ""
          ],
          [
           "",
           ""
          ],
          [
           "",
           ""
          ],
          [
           "",
           ""
          ],
          [
           "",
           ""
          ],
          [
           "",
           ""
          ],
          [
           "",
           ""
          ],
          [
           "'MarÍA Fernanda (@MaferMazu)'",
           ""
          ],
          [
           "",
           "'MarÍA Fernanda (@MaferMazu)'"
          ],
          [
           "",
           ""
          ],
          [
           "'Silvana Prieto'",
           ""
          ],
          [
           "",
           "'Silvana Prieto'"
          ],
          [
           "",
           ""
          ],
          [
           "",
           ""
          ],
          [
           "",
           ""
          ],
          [
           "",
           ""
          ],
          [
           "'Eder Delgado S.'",
           ""
          ],
          [
           "",
           "'Eder Delgado S.'"
          ],
          [
           "'MarÍA Fernanda (@MaferMazu)'",
           ""
          ],
          [
           "",
           "'MarÍA Fernanda (@MaferMazu)'"
          ],
          [
           "",
           ""
          ],
          [
           "'IPhone De Estrella'",
           ""
          ],
          [
           "",
           "'IPhone De Estrella'"
          ],
          [
           "",
           ""
          ],
          [
           "",
           ""
          ],
          [
           "",
           ""
          ],
          [
           "",
           ""
          ],
          [
           "",
           ""
          ],
          [
           "",
           ""
          ],
          [
           "",
           ""
          ],
          [
           "",
           ""
          ],
          [
           "",
           ""
          ],
          [
           "",
           ""
          ],
          [
           "",
           ""
          ],
          [
           "",
           ""
          ],
          [
           "",
           ""
          ],
          [
           "",
           ""
          ],
          [
           "",
           ""
          ],
          [
           "'MarÍA Fernanda (@MaferMazu)'",
           ""
          ],
          [
           "",
           "'MarÍA Fernanda (@MaferMazu)'"
          ],
          [
           "",
           ""
          ],
          [
           "",
           ""
          ],
          [
           "",
           ""
          ]
         ],
         "hovertemplate": "<b>%{hovertext}</b><br><br>now=%{x}<br>ConectadosReales=%{y}<br>Salida=%{customdata[0]}<br>Entrada=%{customdata[1]}<extra></extra>",
         "hovertext": [
          "09:16:03",
          "09:16:18",
          "09:16:33",
          "09:16:49",
          "09:17:04",
          "09:17:20",
          "09:17:36",
          "09:17:51",
          "09:18:07",
          "09:18:23",
          "09:18:38",
          "09:18:53",
          "09:19:08",
          "09:19:23",
          "09:19:39",
          "09:19:54",
          "09:20:09",
          "09:20:24",
          "09:20:40",
          "09:20:55",
          "09:21:10",
          "09:21:25",
          "09:21:41",
          "09:21:56",
          "09:22:11",
          "09:22:26",
          "09:22:41",
          "09:22:56",
          "09:23:11",
          "09:23:26",
          "09:23:41",
          "09:23:56",
          "09:24:11",
          "09:24:27",
          "09:24:42",
          "09:24:57",
          "09:25:12",
          "09:25:27",
          "09:25:43",
          "09:25:58",
          "09:26:13",
          "09:26:28",
          "09:26:44",
          "09:26:59",
          "09:27:14",
          "09:27:29",
          "09:27:44",
          "09:28:00",
          "09:28:15",
          "09:28:30",
          "09:28:45",
          "09:29:00",
          "09:29:15",
          "09:29:30",
          "09:29:45",
          "09:30:01",
          "09:30:16",
          "09:30:31",
          "09:30:46",
          "09:31:02",
          "09:31:17",
          "09:31:32",
          "09:31:48",
          "09:32:03",
          "09:32:18",
          "09:32:33",
          "09:32:48",
          "09:33:03",
          "09:33:19",
          "09:33:34",
          "09:33:49",
          "09:34:04",
          "09:34:19",
          "09:40:29",
          "09:40:44",
          "09:40:59",
          "09:41:14",
          "09:41:29",
          "09:41:44",
          "09:41:59",
          "09:42:14",
          "09:42:29",
          "09:42:44",
          "09:42:59",
          "09:43:14",
          "09:43:30",
          "09:43:45",
          "09:44:00",
          "09:44:16",
          "09:44:32",
          "09:44:47",
          "09:45:02",
          "09:45:17",
          "09:45:32",
          "09:45:47",
          "09:46:02",
          "09:46:18",
          "09:46:33",
          "09:46:48",
          "09:47:03",
          "09:47:18",
          "09:50:57",
          "09:51:12",
          "09:51:27",
          "09:51:42",
          "09:51:57",
          "09:52:12",
          "09:56:49",
          "09:57:04",
          "09:57:19",
          "09:57:35",
          "09:57:50",
          "09:58:05",
          "09:58:20",
          "09:58:36",
          "09:58:51",
          "09:59:06",
          "09:59:22",
          "09:59:37",
          "09:59:52",
          "10:00:09",
          "10:00:24",
          "10:00:39",
          "10:00:55",
          "10:01:10",
          "10:01:26",
          "10:01:41",
          "10:01:56",
          "10:02:11",
          "10:02:26",
          "10:02:42",
          "10:02:57",
          "10:03:12",
          "10:03:27",
          "10:03:42",
          "10:03:58",
          "10:04:13",
          "10:04:28",
          "10:04:43",
          "10:04:58",
          "10:05:13",
          "10:05:28",
          "10:05:44",
          "10:06:00",
          "10:06:15",
          "10:06:31"
         ],
         "legendgroup": "",
         "line": {
          "color": "#636efa",
          "dash": "solid"
         },
         "mode": "lines",
         "name": "",
         "orientation": "v",
         "showlegend": false,
         "type": "scatter",
         "x": [
          "09:16:03",
          "09:16:18",
          "09:16:33",
          "09:16:49",
          "09:17:04",
          "09:17:20",
          "09:17:36",
          "09:17:51",
          "09:18:07",
          "09:18:23",
          "09:18:38",
          "09:18:53",
          "09:19:08",
          "09:19:23",
          "09:19:39",
          "09:19:54",
          "09:20:09",
          "09:20:24",
          "09:20:40",
          "09:20:55",
          "09:21:10",
          "09:21:25",
          "09:21:41",
          "09:21:56",
          "09:22:11",
          "09:22:26",
          "09:22:41",
          "09:22:56",
          "09:23:11",
          "09:23:26",
          "09:23:41",
          "09:23:56",
          "09:24:11",
          "09:24:27",
          "09:24:42",
          "09:24:57",
          "09:25:12",
          "09:25:27",
          "09:25:43",
          "09:25:58",
          "09:26:13",
          "09:26:28",
          "09:26:44",
          "09:26:59",
          "09:27:14",
          "09:27:29",
          "09:27:44",
          "09:28:00",
          "09:28:15",
          "09:28:30",
          "09:28:45",
          "09:29:00",
          "09:29:15",
          "09:29:30",
          "09:29:45",
          "09:30:01",
          "09:30:16",
          "09:30:31",
          "09:30:46",
          "09:31:02",
          "09:31:17",
          "09:31:32",
          "09:31:48",
          "09:32:03",
          "09:32:18",
          "09:32:33",
          "09:32:48",
          "09:33:03",
          "09:33:19",
          "09:33:34",
          "09:33:49",
          "09:34:04",
          "09:34:19",
          "09:40:29",
          "09:40:44",
          "09:40:59",
          "09:41:14",
          "09:41:29",
          "09:41:44",
          "09:41:59",
          "09:42:14",
          "09:42:29",
          "09:42:44",
          "09:42:59",
          "09:43:14",
          "09:43:30",
          "09:43:45",
          "09:44:00",
          "09:44:16",
          "09:44:32",
          "09:44:47",
          "09:45:02",
          "09:45:17",
          "09:45:32",
          "09:45:47",
          "09:46:02",
          "09:46:18",
          "09:46:33",
          "09:46:48",
          "09:47:03",
          "09:47:18",
          "09:50:57",
          "09:51:12",
          "09:51:27",
          "09:51:42",
          "09:51:57",
          "09:52:12",
          "09:56:49",
          "09:57:04",
          "09:57:19",
          "09:57:35",
          "09:57:50",
          "09:58:05",
          "09:58:20",
          "09:58:36",
          "09:58:51",
          "09:59:06",
          "09:59:22",
          "09:59:37",
          "09:59:52",
          "10:00:09",
          "10:00:24",
          "10:00:39",
          "10:00:55",
          "10:01:10",
          "10:01:26",
          "10:01:41",
          "10:01:56",
          "10:02:11",
          "10:02:26",
          "10:02:42",
          "10:02:57",
          "10:03:12",
          "10:03:27",
          "10:03:42",
          "10:03:58",
          "10:04:13",
          "10:04:28",
          "10:04:43",
          "10:04:58",
          "10:05:13",
          "10:05:28",
          "10:05:44",
          "10:06:00",
          "10:06:15",
          "10:06:31"
         ],
         "xaxis": "x",
         "y": [
          58,
          56,
          56,
          55,
          56,
          58,
          59,
          57,
          58,
          57,
          57,
          58,
          58,
          58,
          59,
          59,
          59,
          59,
          61,
          62,
          62,
          62,
          63,
          63,
          63,
          63,
          63,
          63,
          63,
          63,
          63,
          63,
          63,
          62,
          62,
          62,
          62,
          62,
          63,
          63,
          63,
          63,
          64,
          64,
          64,
          64,
          63,
          62,
          62,
          62,
          62,
          62,
          62,
          62,
          62,
          62,
          61,
          61,
          61,
          60,
          60,
          60,
          61,
          61,
          61,
          60,
          60,
          60,
          59,
          59,
          59,
          59,
          59,
          59,
          59,
          59,
          59,
          59,
          59,
          59,
          59,
          59,
          59,
          59,
          59,
          60,
          61,
          61,
          60,
          59,
          59,
          59,
          59,
          59,
          59,
          58,
          58,
          58,
          58,
          58,
          58,
          55,
          55,
          55,
          55,
          55,
          55,
          54,
          54,
          54,
          53,
          54,
          54,
          54,
          55,
          54,
          54,
          53,
          53,
          53,
          54,
          54,
          55,
          54,
          54,
          55,
          55,
          55,
          55,
          55,
          54,
          54,
          54,
          54,
          54,
          53,
          53,
          53,
          53,
          53,
          53,
          52,
          53,
          51,
          50,
          48
         ],
         "yaxis": "y"
        }
       ],
       "layout": {
        "legend": {
         "tracegroupgap": 0
        },
        "template": {
         "data": {
          "bar": [
           {
            "error_x": {
             "color": "#2a3f5f"
            },
            "error_y": {
             "color": "#2a3f5f"
            },
            "marker": {
             "line": {
              "color": "#E5ECF6",
              "width": 0.5
             }
            },
            "type": "bar"
           }
          ],
          "barpolar": [
           {
            "marker": {
             "line": {
              "color": "#E5ECF6",
              "width": 0.5
             }
            },
            "type": "barpolar"
           }
          ],
          "carpet": [
           {
            "aaxis": {
             "endlinecolor": "#2a3f5f",
             "gridcolor": "white",
             "linecolor": "white",
             "minorgridcolor": "white",
             "startlinecolor": "#2a3f5f"
            },
            "baxis": {
             "endlinecolor": "#2a3f5f",
             "gridcolor": "white",
             "linecolor": "white",
             "minorgridcolor": "white",
             "startlinecolor": "#2a3f5f"
            },
            "type": "carpet"
           }
          ],
          "choropleth": [
           {
            "colorbar": {
             "outlinewidth": 0,
             "ticks": ""
            },
            "type": "choropleth"
           }
          ],
          "contour": [
           {
            "colorbar": {
             "outlinewidth": 0,
             "ticks": ""
            },
            "colorscale": [
             [
              0,
              "#0d0887"
             ],
             [
              0.1111111111111111,
              "#46039f"
             ],
             [
              0.2222222222222222,
              "#7201a8"
             ],
             [
              0.3333333333333333,
              "#9c179e"
             ],
             [
              0.4444444444444444,
              "#bd3786"
             ],
             [
              0.5555555555555556,
              "#d8576b"
             ],
             [
              0.6666666666666666,
              "#ed7953"
             ],
             [
              0.7777777777777778,
              "#fb9f3a"
             ],
             [
              0.8888888888888888,
              "#fdca26"
             ],
             [
              1,
              "#f0f921"
             ]
            ],
            "type": "contour"
           }
          ],
          "contourcarpet": [
           {
            "colorbar": {
             "outlinewidth": 0,
             "ticks": ""
            },
            "type": "contourcarpet"
           }
          ],
          "heatmap": [
           {
            "colorbar": {
             "outlinewidth": 0,
             "ticks": ""
            },
            "colorscale": [
             [
              0,
              "#0d0887"
             ],
             [
              0.1111111111111111,
              "#46039f"
             ],
             [
              0.2222222222222222,
              "#7201a8"
             ],
             [
              0.3333333333333333,
              "#9c179e"
             ],
             [
              0.4444444444444444,
              "#bd3786"
             ],
             [
              0.5555555555555556,
              "#d8576b"
             ],
             [
              0.6666666666666666,
              "#ed7953"
             ],
             [
              0.7777777777777778,
              "#fb9f3a"
             ],
             [
              0.8888888888888888,
              "#fdca26"
             ],
             [
              1,
              "#f0f921"
             ]
            ],
            "type": "heatmap"
           }
          ],
          "heatmapgl": [
           {
            "colorbar": {
             "outlinewidth": 0,
             "ticks": ""
            },
            "colorscale": [
             [
              0,
              "#0d0887"
             ],
             [
              0.1111111111111111,
              "#46039f"
             ],
             [
              0.2222222222222222,
              "#7201a8"
             ],
             [
              0.3333333333333333,
              "#9c179e"
             ],
             [
              0.4444444444444444,
              "#bd3786"
             ],
             [
              0.5555555555555556,
              "#d8576b"
             ],
             [
              0.6666666666666666,
              "#ed7953"
             ],
             [
              0.7777777777777778,
              "#fb9f3a"
             ],
             [
              0.8888888888888888,
              "#fdca26"
             ],
             [
              1,
              "#f0f921"
             ]
            ],
            "type": "heatmapgl"
           }
          ],
          "histogram": [
           {
            "marker": {
             "colorbar": {
              "outlinewidth": 0,
              "ticks": ""
             }
            },
            "type": "histogram"
           }
          ],
          "histogram2d": [
           {
            "colorbar": {
             "outlinewidth": 0,
             "ticks": ""
            },
            "colorscale": [
             [
              0,
              "#0d0887"
             ],
             [
              0.1111111111111111,
              "#46039f"
             ],
             [
              0.2222222222222222,
              "#7201a8"
             ],
             [
              0.3333333333333333,
              "#9c179e"
             ],
             [
              0.4444444444444444,
              "#bd3786"
             ],
             [
              0.5555555555555556,
              "#d8576b"
             ],
             [
              0.6666666666666666,
              "#ed7953"
             ],
             [
              0.7777777777777778,
              "#fb9f3a"
             ],
             [
              0.8888888888888888,
              "#fdca26"
             ],
             [
              1,
              "#f0f921"
             ]
            ],
            "type": "histogram2d"
           }
          ],
          "histogram2dcontour": [
           {
            "colorbar": {
             "outlinewidth": 0,
             "ticks": ""
            },
            "colorscale": [
             [
              0,
              "#0d0887"
             ],
             [
              0.1111111111111111,
              "#46039f"
             ],
             [
              0.2222222222222222,
              "#7201a8"
             ],
             [
              0.3333333333333333,
              "#9c179e"
             ],
             [
              0.4444444444444444,
              "#bd3786"
             ],
             [
              0.5555555555555556,
              "#d8576b"
             ],
             [
              0.6666666666666666,
              "#ed7953"
             ],
             [
              0.7777777777777778,
              "#fb9f3a"
             ],
             [
              0.8888888888888888,
              "#fdca26"
             ],
             [
              1,
              "#f0f921"
             ]
            ],
            "type": "histogram2dcontour"
           }
          ],
          "mesh3d": [
           {
            "colorbar": {
             "outlinewidth": 0,
             "ticks": ""
            },
            "type": "mesh3d"
           }
          ],
          "parcoords": [
           {
            "line": {
             "colorbar": {
              "outlinewidth": 0,
              "ticks": ""
             }
            },
            "type": "parcoords"
           }
          ],
          "pie": [
           {
            "automargin": true,
            "type": "pie"
           }
          ],
          "scatter": [
           {
            "marker": {
             "colorbar": {
              "outlinewidth": 0,
              "ticks": ""
             }
            },
            "type": "scatter"
           }
          ],
          "scatter3d": [
           {
            "line": {
             "colorbar": {
              "outlinewidth": 0,
              "ticks": ""
             }
            },
            "marker": {
             "colorbar": {
              "outlinewidth": 0,
              "ticks": ""
             }
            },
            "type": "scatter3d"
           }
          ],
          "scattercarpet": [
           {
            "marker": {
             "colorbar": {
              "outlinewidth": 0,
              "ticks": ""
             }
            },
            "type": "scattercarpet"
           }
          ],
          "scattergeo": [
           {
            "marker": {
             "colorbar": {
              "outlinewidth": 0,
              "ticks": ""
             }
            },
            "type": "scattergeo"
           }
          ],
          "scattergl": [
           {
            "marker": {
             "colorbar": {
              "outlinewidth": 0,
              "ticks": ""
             }
            },
            "type": "scattergl"
           }
          ],
          "scattermapbox": [
           {
            "marker": {
             "colorbar": {
              "outlinewidth": 0,
              "ticks": ""
             }
            },
            "type": "scattermapbox"
           }
          ],
          "scatterpolar": [
           {
            "marker": {
             "colorbar": {
              "outlinewidth": 0,
              "ticks": ""
             }
            },
            "type": "scatterpolar"
           }
          ],
          "scatterpolargl": [
           {
            "marker": {
             "colorbar": {
              "outlinewidth": 0,
              "ticks": ""
             }
            },
            "type": "scatterpolargl"
           }
          ],
          "scatterternary": [
           {
            "marker": {
             "colorbar": {
              "outlinewidth": 0,
              "ticks": ""
             }
            },
            "type": "scatterternary"
           }
          ],
          "surface": [
           {
            "colorbar": {
             "outlinewidth": 0,
             "ticks": ""
            },
            "colorscale": [
             [
              0,
              "#0d0887"
             ],
             [
              0.1111111111111111,
              "#46039f"
             ],
             [
              0.2222222222222222,
              "#7201a8"
             ],
             [
              0.3333333333333333,
              "#9c179e"
             ],
             [
              0.4444444444444444,
              "#bd3786"
             ],
             [
              0.5555555555555556,
              "#d8576b"
             ],
             [
              0.6666666666666666,
              "#ed7953"
             ],
             [
              0.7777777777777778,
              "#fb9f3a"
             ],
             [
              0.8888888888888888,
              "#fdca26"
             ],
             [
              1,
              "#f0f921"
             ]
            ],
            "type": "surface"
           }
          ],
          "table": [
           {
            "cells": {
             "fill": {
              "color": "#EBF0F8"
             },
             "line": {
              "color": "white"
             }
            },
            "header": {
             "fill": {
              "color": "#C8D4E3"
             },
             "line": {
              "color": "white"
             }
            },
            "type": "table"
           }
          ]
         },
         "layout": {
          "annotationdefaults": {
           "arrowcolor": "#2a3f5f",
           "arrowhead": 0,
           "arrowwidth": 1
          },
          "coloraxis": {
           "colorbar": {
            "outlinewidth": 0,
            "ticks": ""
           }
          },
          "colorscale": {
           "diverging": [
            [
             0,
             "#8e0152"
            ],
            [
             0.1,
             "#c51b7d"
            ],
            [
             0.2,
             "#de77ae"
            ],
            [
             0.3,
             "#f1b6da"
            ],
            [
             0.4,
             "#fde0ef"
            ],
            [
             0.5,
             "#f7f7f7"
            ],
            [
             0.6,
             "#e6f5d0"
            ],
            [
             0.7,
             "#b8e186"
            ],
            [
             0.8,
             "#7fbc41"
            ],
            [
             0.9,
             "#4d9221"
            ],
            [
             1,
             "#276419"
            ]
           ],
           "sequential": [
            [
             0,
             "#0d0887"
            ],
            [
             0.1111111111111111,
             "#46039f"
            ],
            [
             0.2222222222222222,
             "#7201a8"
            ],
            [
             0.3333333333333333,
             "#9c179e"
            ],
            [
             0.4444444444444444,
             "#bd3786"
            ],
            [
             0.5555555555555556,
             "#d8576b"
            ],
            [
             0.6666666666666666,
             "#ed7953"
            ],
            [
             0.7777777777777778,
             "#fb9f3a"
            ],
            [
             0.8888888888888888,
             "#fdca26"
            ],
            [
             1,
             "#f0f921"
            ]
           ],
           "sequentialminus": [
            [
             0,
             "#0d0887"
            ],
            [
             0.1111111111111111,
             "#46039f"
            ],
            [
             0.2222222222222222,
             "#7201a8"
            ],
            [
             0.3333333333333333,
             "#9c179e"
            ],
            [
             0.4444444444444444,
             "#bd3786"
            ],
            [
             0.5555555555555556,
             "#d8576b"
            ],
            [
             0.6666666666666666,
             "#ed7953"
            ],
            [
             0.7777777777777778,
             "#fb9f3a"
            ],
            [
             0.8888888888888888,
             "#fdca26"
            ],
            [
             1,
             "#f0f921"
            ]
           ]
          },
          "colorway": [
           "#636efa",
           "#EF553B",
           "#00cc96",
           "#ab63fa",
           "#FFA15A",
           "#19d3f3",
           "#FF6692",
           "#B6E880",
           "#FF97FF",
           "#FECB52"
          ],
          "font": {
           "color": "#2a3f5f"
          },
          "geo": {
           "bgcolor": "white",
           "lakecolor": "white",
           "landcolor": "#E5ECF6",
           "showlakes": true,
           "showland": true,
           "subunitcolor": "white"
          },
          "hoverlabel": {
           "align": "left"
          },
          "hovermode": "closest",
          "mapbox": {
           "style": "light"
          },
          "paper_bgcolor": "white",
          "plot_bgcolor": "#E5ECF6",
          "polar": {
           "angularaxis": {
            "gridcolor": "white",
            "linecolor": "white",
            "ticks": ""
           },
           "bgcolor": "#E5ECF6",
           "radialaxis": {
            "gridcolor": "white",
            "linecolor": "white",
            "ticks": ""
           }
          },
          "scene": {
           "xaxis": {
            "backgroundcolor": "#E5ECF6",
            "gridcolor": "white",
            "gridwidth": 2,
            "linecolor": "white",
            "showbackground": true,
            "ticks": "",
            "zerolinecolor": "white"
           },
           "yaxis": {
            "backgroundcolor": "#E5ECF6",
            "gridcolor": "white",
            "gridwidth": 2,
            "linecolor": "white",
            "showbackground": true,
            "ticks": "",
            "zerolinecolor": "white"
           },
           "zaxis": {
            "backgroundcolor": "#E5ECF6",
            "gridcolor": "white",
            "gridwidth": 2,
            "linecolor": "white",
            "showbackground": true,
            "ticks": "",
            "zerolinecolor": "white"
           }
          },
          "shapedefaults": {
           "line": {
            "color": "#2a3f5f"
           }
          },
          "ternary": {
           "aaxis": {
            "gridcolor": "white",
            "linecolor": "white",
            "ticks": ""
           },
           "baxis": {
            "gridcolor": "white",
            "linecolor": "white",
            "ticks": ""
           },
           "bgcolor": "#E5ECF6",
           "caxis": {
            "gridcolor": "white",
            "linecolor": "white",
            "ticks": ""
           }
          },
          "title": {
           "x": 0.05
          },
          "xaxis": {
           "automargin": true,
           "gridcolor": "white",
           "linecolor": "white",
           "ticks": "",
           "title": {
            "standoff": 15
           },
           "zerolinecolor": "white",
           "zerolinewidth": 2
          },
          "yaxis": {
           "automargin": true,
           "gridcolor": "white",
           "linecolor": "white",
           "ticks": "",
           "title": {
            "standoff": 15
           },
           "zerolinecolor": "white",
           "zerolinewidth": 2
          }
         }
        },
        "title": {
         "text": "Conectados por iteración"
        },
        "xaxis": {
         "anchor": "y",
         "domain": [
          0,
          1
         ],
         "title": {
          "text": "now"
         }
        },
        "yaxis": {
         "anchor": "x",
         "domain": [
          0,
          1
         ],
         "title": {
          "text": "ConectadosReales"
         }
        }
       }
      }
     },
     "metadata": {}
    }
   ],
   "source": [
    "\n",
    "fig = px.line(Ordenada, x=\"now\", y=\"ConectadosReales\", title='Conectados por iteración',hover_name=\"now\", hover_data=[\"Salida\", \"Entrada\"])\n",
    "fig.show()"
   ]
  },
  {
   "cell_type": "code",
   "execution_count": null,
   "metadata": {},
   "outputs": [],
   "source": [
    "ConectadosReales"
   ]
  }
 ],
 "metadata": {
  "kernelspec": {
   "name": "python3",
   "display_name": "Python 3.6.9 64-bit ('zoomus')",
   "metadata": {
    "interpreter": {
     "hash": "1fd62ef4fe972eaf50ce6f8cf3d8e7f0feb2702e1e7785cff2e61e75b1a6c1f7"
    }
   }
  },
  "language_info": {
   "codemirror_mode": {
    "name": "ipython",
    "version": 3
   },
   "file_extension": ".py",
   "mimetype": "text/x-python",
   "name": "python",
   "nbconvert_exporter": "python",
   "pygments_lexer": "ipython3",
   "version": "3.6.9-final"
  }
 },
 "nbformat": 4,
 "nbformat_minor": 4
}